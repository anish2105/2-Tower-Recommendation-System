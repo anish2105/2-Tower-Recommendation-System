{
  "nbformat": 4,
  "nbformat_minor": 0,
  "metadata": {
    "colab": {
      "provenance": []
    },
    "kernelspec": {
      "name": "python3",
      "display_name": "Python 3"
    },
    "language_info": {
      "name": "python"
    }
  },
  "cells": [
    {
      "cell_type": "code",
      "execution_count": 4,
      "metadata": {
        "colab": {
          "base_uri": "https://localhost:8080/"
        },
        "id": "K21xA8G3Hlm2",
        "outputId": "a36335dd-9291-4947-ca0a-60d834e1904d"
      },
      "outputs": [
        {
          "output_type": "stream",
          "name": "stdout",
          "text": [
            "Requirement already satisfied: pyspark in /usr/local/lib/python3.11/dist-packages (3.5.5)\n",
            "Requirement already satisfied: redis in /usr/local/lib/python3.11/dist-packages (5.2.1)\n",
            "Requirement already satisfied: prometheus-client in /usr/local/lib/python3.11/dist-packages (0.21.1)\n",
            "Requirement already satisfied: py4j==0.10.9.7 in /usr/local/lib/python3.11/dist-packages (from pyspark) (0.10.9.7)\n"
          ]
        }
      ],
      "source": [
        "!pip install pyspark redis prometheus-client"
      ]
    },
    {
      "cell_type": "code",
      "source": [
        "import pandas as pd\n",
        "import numpy as np\n",
        "import matplotlib.pyplot as plt\n",
        "import seaborn as sns\n",
        "\n",
        "from sklearn.metrics.pairwise import cosine_similarity\n",
        "from sklearn.feature_extraction.text import TfidfVectorizer\n",
        "\n",
        "import os\n",
        "from scipy.sparse import coo_matrix"
      ],
      "metadata": {
        "id": "oew7e2kEHojE"
      },
      "execution_count": 5,
      "outputs": []
    },
    {
      "cell_type": "code",
      "source": [
        "from pyspark.sql import SparkSession, Row\n",
        "from pyspark.ml.recommendation import ALS\n",
        "from pyspark.sql.functions import col, explode\n",
        "\n",
        "# Initializing Spark session\n",
        "spark = SparkSession.builder.appName(\"MovieRecommender\").getOrCreate()"
      ],
      "metadata": {
        "id": "F7BUtcPBHs1t"
      },
      "execution_count": 6,
      "outputs": []
    },
    {
      "cell_type": "code",
      "source": [
        "def load_data():\n",
        "      df = spark.read.option(\"header\", True).csv(\"/content/merged_movie_df.csv\")\n",
        "      df = df.withColumn(\"userId\", col(\"userId\").cast(\"int\")) \\\n",
        "              .withColumn(\"movieId\", col(\"movieId\").cast(\"int\")) \\\n",
        "              .withColumn(\"rating\", col(\"rating\").cast(\"float\"))\n",
        "      df = df.dropna(subset=[\"userId\", \"movieId\", \"rating\"])\n",
        "      return df"
      ],
      "metadata": {
        "id": "boJTYgiRHxIh"
      },
      "execution_count": 7,
      "outputs": []
    },
    {
      "cell_type": "code",
      "source": [
        "df = load_data()"
      ],
      "metadata": {
        "id": "13_mm57KxiPn"
      },
      "execution_count": 8,
      "outputs": []
    },
    {
      "cell_type": "code",
      "source": [
        "df.show()"
      ],
      "metadata": {
        "colab": {
          "base_uri": "https://localhost:8080/"
        },
        "id": "5ymu5Uf4xy4a",
        "outputId": "ff566557-cfc2-436f-d2a8-82a4198e10eb"
      },
      "execution_count": 9,
      "outputs": [
        {
          "output_type": "stream",
          "name": "stdout",
          "text": [
            "+-------+----------------+--------------------+------+------+------+--------------------+----------+------+--------------------+\n",
            "|movieId|           title|              genres|imdbId|tmdbId|userId|                 tag| timestamp|rating|           genre_tag|\n",
            "+-------+----------------+--------------------+------+------+------+--------------------+----------+------+--------------------+\n",
            "|      1|Toy Story (1995)|Adventure, Animat...|114709| 862.0|   109|            children|1257988285|   4.0|Adventure, Animat...|\n",
            "|      1|Toy Story (1995)|Adventure, Animat...|114709| 862.0|   109|              Disney|1257988287|   4.0|Adventure, Animat...|\n",
            "|      1|Toy Story (1995)|Adventure, Animat...|114709| 862.0|   909|           animation|1248249498|   2.0|Adventure, Animat...|\n",
            "|      1|Toy Story (1995)|Adventure, Animat...|114709| 862.0|   909|            children|1248249511|   2.0|Adventure, Animat...|\n",
            "|      1|Toy Story (1995)|Adventure, Animat...|114709| 862.0|   909|              Disney|1248249494|   2.0|Adventure, Animat...|\n",
            "|      1|Toy Story (1995)|Adventure, Animat...|114709| 862.0|   929|              Disney|1468882286|   5.0|Adventure, Animat...|\n",
            "|      1|Toy Story (1995)|Adventure, Animat...|114709| 862.0|   929|               pixar|1468882280|   5.0|Adventure, Animat...|\n",
            "|      1|Toy Story (1995)|Adventure, Animat...|114709| 862.0|  1355|           animation|1608245513|   5.0|Adventure, Animat...|\n",
            "|      1|Toy Story (1995)|Adventure, Animat...|114709| 862.0|  1355|               funny|1608245514|   5.0|Adventure, Animat...|\n",
            "|      1|Toy Story (1995)|Adventure, Animat...|114709| 862.0|  1355|               Pixar|1608245512|   5.0|Adventure, Animat...|\n",
            "|      1|Toy Story (1995)|Adventure, Animat...|114709| 862.0|  1523|               Pixar|1400944952|   4.5|Adventure, Animat...|\n",
            "|      1|Toy Story (1995)|Adventure, Animat...|114709| 862.0|  2499|Tumey's To See Again|1195383359|   4.0|Adventure, Animat...|\n",
            "|      1|Toy Story (1995)|Adventure, Animat...|114709| 862.0|  2499|         Tumey's VHS|1195574115|   4.0|Adventure, Animat...|\n",
            "|      1|Toy Story (1995)|Adventure, Animat...|114709| 862.0|  2818|           adventure|1627647973|   5.0|Adventure, Animat...|\n",
            "|      1|Toy Story (1995)|Adventure, Animat...|114709| 862.0|  2818|             classic|1627647968|   5.0|Adventure, Animat...|\n",
            "|      1|Toy Story (1995)|Adventure, Animat...|114709| 862.0|  2818|          friendship|1627647957|   5.0|Adventure, Animat...|\n",
            "|      1|Toy Story (1995)|Adventure, Animat...|114709| 862.0|  2818|               funny|1627647960|   5.0|Adventure, Animat...|\n",
            "|      1|Toy Story (1995)|Adventure, Animat...|114709| 862.0|  4863|           animation|1138336930|   4.5|Adventure, Animat...|\n",
            "|      1|Toy Story (1995)|Adventure, Animat...|114709| 862.0|  4863|  computer animation|1138336930|   4.5|Adventure, Animat...|\n",
            "|      1|Toy Story (1995)|Adventure, Animat...|114709| 862.0|  4863|               pixar|1138336912|   4.5|Adventure, Animat...|\n",
            "+-------+----------------+--------------------+------+------+------+--------------------+----------+------+--------------------+\n",
            "only showing top 20 rows\n",
            "\n"
          ]
        }
      ]
    },
    {
      "cell_type": "code",
      "source": [
        "def train_als_model(df):\n",
        "    als = ALS(\n",
        "        userCol=\"userId\",\n",
        "        itemCol=\"movieId\",\n",
        "        ratingCol=\"rating\",  #replace with time stamp if you have\n",
        "        coldStartStrategy=\"drop\",\n",
        "        nonnegative=True,\n",
        "        implicitPrefs=False\n",
        "    )\n",
        "    model = als.fit(df)\n",
        "    return model"
      ],
      "metadata": {
        "id": "vxkI17nrH58D"
      },
      "execution_count": 10,
      "outputs": []
    },
    {
      "cell_type": "code",
      "source": [
        "def load_movies():\n",
        "    movies_df = spark.read.option(\"header\", True).csv(\"/content/merged_movie_df.csv\") \\\n",
        "        .select(col(\"movieId\").cast(\"int\"), \"title\") \\\n",
        "        .dropna(subset=[\"movieId\", \"title\"]).dropDuplicates([\"movieId\"])\n",
        "    return movies_df"
      ],
      "metadata": {
        "id": "dX_3RffxH_IU"
      },
      "execution_count": 11,
      "outputs": []
    },
    {
      "cell_type": "code",
      "source": [
        "movies_df = load_movies()\n",
        "movies_df.show()"
      ],
      "metadata": {
        "colab": {
          "base_uri": "https://localhost:8080/"
        },
        "id": "0Kyl0dkwzLzO",
        "outputId": "5231331c-3483-4aec-f555-01c2bdacc374"
      },
      "execution_count": 12,
      "outputs": [
        {
          "output_type": "stream",
          "name": "stdout",
          "text": [
            "+-------+--------------------+\n",
            "|movieId|               title|\n",
            "+-------+--------------------+\n",
            "|      1|    Toy Story (1995)|\n",
            "|      2|      Jumanji (1995)|\n",
            "|      3|Grumpier Old Men ...|\n",
            "|      4|Waiting to Exhale...|\n",
            "|      5|Father of the Bri...|\n",
            "|      6|         Heat (1995)|\n",
            "|      7|      Sabrina (1995)|\n",
            "|      9| Sudden Death (1995)|\n",
            "|     10|    GoldenEye (1995)|\n",
            "|     11|American Presiden...|\n",
            "|     12|Dracula: Dead and...|\n",
            "|     13|        Balto (1995)|\n",
            "|     14|        Nixon (1995)|\n",
            "|     15|Cutthroat Island ...|\n",
            "|     16|       Casino (1995)|\n",
            "|     17|Sense and Sensibi...|\n",
            "|     18|   Four Rooms (1995)|\n",
            "|     19|Ace Ventura: When...|\n",
            "|     20|  Money Train (1995)|\n",
            "|     21|   Get Shorty (1995)|\n",
            "+-------+--------------------+\n",
            "only showing top 20 rows\n",
            "\n"
          ]
        }
      ]
    },
    {
      "cell_type": "code",
      "source": [
        "def get_recommendations_for_user(model, movies_df, user_id, top_n=10):\n",
        "    user_df = spark.createDataFrame([Row(userId=int(user_id))], schema=[\"userId\"])\n",
        "    recs = model.recommendForUserSubset(user_df, top_n)\n",
        "    # Output of recs is (userId, [{movieId,rating}])\n",
        "    flat_recs = recs.withColumn(\"rec\", explode(\"recommendations\")).select(\"userId\", col(\"rec.movieId\"), col(\"rec.rating\"))\n",
        "    final_recs = flat_recs.join(movies_df, on=\"movieId\", how=\"left\")\n",
        "    return final_recs"
      ],
      "metadata": {
        "id": "NCOEFbh9IDLo"
      },
      "execution_count": 13,
      "outputs": []
    },
    {
      "cell_type": "code",
      "source": [
        "df = load_data()\n",
        "model = train_als_model(df)\n",
        "movies_df = load_movies()\n",
        "\n",
        "user_id = 109\n",
        "recommendations = get_recommendations_for_user(model, movies_df, user_id)\n",
        "recommendations.show(truncate=False)"
      ],
      "metadata": {
        "colab": {
          "base_uri": "https://localhost:8080/"
        },
        "id": "c03_bliAILYq",
        "outputId": "2be620af-a1a6-45ce-90a5-c6244953cae4"
      },
      "execution_count": 14,
      "outputs": [
        {
          "output_type": "stream",
          "name": "stdout",
          "text": [
            "+-------+------+---------+-------------------------------------------+\n",
            "|movieId|userId|rating   |title                                      |\n",
            "+-------+------+---------+-------------------------------------------+\n",
            "|1861   |109   |7.0972385|Junk Mail (Budbringeren) (1997)            |\n",
            "|276711 |109   |5.899877 |The Great Warrior Skanderbeg (1953)        |\n",
            "|128727 |109   |5.685911 |Bizarre (2015)                             |\n",
            "|79863  |109   |5.5419154|Black Water (2007)                         |\n",
            "|5605   |109   |5.5345907|Ratcatcher (1999)                          |\n",
            "|124253 |109   |5.4385486|Sailor of the King (1953)                  |\n",
            "|213952 |109   |5.4023843|Ciao Ni! (1979)                            |\n",
            "|227    |109   |5.4013085|Drop Zone (1994)                           |\n",
            "|248836 |109   |5.3409667|Here Today (2021)                          |\n",
            "|38376  |109   |5.3202715|Everybody's Fine (Stanno tutti bene) (1990)|\n",
            "+-------+------+---------+-------------------------------------------+\n",
            "\n"
          ]
        }
      ]
    },
    {
      "cell_type": "code",
      "source": [
        "def get_recommendations_with_explanation(model, movies_df, user_id, top_n=10):\n",
        "    print(f\"\\n Creating DataFrame for userId = {user_id}\")\n",
        "    user_df = spark.createDataFrame([Row(userId=int(user_id))], schema=[\"userId\"])\n",
        "    user_df.show()\n",
        "\n",
        "    print(f\"\\n Getting top {top_n} recommendations from ALS model\")\n",
        "    recs = model.recommendForUserSubset(user_df, top_n)\n",
        "    recs.show(truncate=False)\n",
        "\n",
        "    # Output of recs is (userId, [{movieId,rating}])\n",
        "\n",
        "    print(\"\\n Exploding the 'recommendations' array into flat rows\")\n",
        "    flat_recs = recs.withColumn(\"rec\", explode(\"recommendations\")).select(\"userId\", col(\"rec.movieId\"), col(\"rec.rating\"))\n",
        "    flat_recs.show()\n",
        "\n",
        "    print(\"\\n Joining with movie titles to get readable output\")\n",
        "    final_recs = flat_recs.join(movies_df, on=\"movieId\", how=\"left\")\n",
        "    final_recs.show(truncate=False)\n",
        "\n",
        "    return final_recs\n"
      ],
      "metadata": {
        "id": "u5L1F3YY3yyh"
      },
      "execution_count": 15,
      "outputs": []
    },
    {
      "cell_type": "code",
      "source": [
        "user_id = 109\n",
        "recommendations = get_recommendations_with_explanation(model, movies_df, user_id)\n",
        "recommendations.show(truncate=False)"
      ],
      "metadata": {
        "colab": {
          "base_uri": "https://localhost:8080/"
        },
        "id": "9cDxhcfP30nv",
        "outputId": "4799ec8a-42b3-4152-b6d9-6c0ea3b202e9"
      },
      "execution_count": 16,
      "outputs": [
        {
          "output_type": "stream",
          "name": "stdout",
          "text": [
            "\n",
            " Creating DataFrame for userId = 109\n",
            "+------+\n",
            "|userId|\n",
            "+------+\n",
            "|   109|\n",
            "+------+\n",
            "\n",
            "\n",
            " Getting top 10 recommendations from ALS model\n",
            "+------+-------------------------------------------------------------------------------------------------------------------------------------------------------------------------------------------------------+\n",
            "|userId|recommendations                                                                                                                                                                                        |\n",
            "+------+-------------------------------------------------------------------------------------------------------------------------------------------------------------------------------------------------------+\n",
            "|109   |[{1861, 7.0972385}, {276711, 5.899877}, {128727, 5.685911}, {79863, 5.5419154}, {5605, 5.5345907}, {124253, 5.4385486}, {213952, 5.4023843}, {227, 5.4013085}, {248836, 5.3409667}, {38376, 5.3202715}]|\n",
            "+------+-------------------------------------------------------------------------------------------------------------------------------------------------------------------------------------------------------+\n",
            "\n",
            "\n",
            " Exploding the 'recommendations' array into flat rows\n",
            "+------+-------+---------+\n",
            "|userId|movieId|   rating|\n",
            "+------+-------+---------+\n",
            "|   109|   1861|7.0972385|\n",
            "|   109| 276711| 5.899877|\n",
            "|   109| 128727| 5.685911|\n",
            "|   109|  79863|5.5419154|\n",
            "|   109|   5605|5.5345907|\n",
            "|   109| 124253|5.4385486|\n",
            "|   109| 213952|5.4023843|\n",
            "|   109|    227|5.4013085|\n",
            "|   109| 248836|5.3409667|\n",
            "|   109|  38376|5.3202715|\n",
            "+------+-------+---------+\n",
            "\n",
            "\n",
            " Joining with movie titles to get readable output\n",
            "+-------+------+---------+-------------------------------------------+\n",
            "|movieId|userId|rating   |title                                      |\n",
            "+-------+------+---------+-------------------------------------------+\n",
            "|1861   |109   |7.0972385|Junk Mail (Budbringeren) (1997)            |\n",
            "|276711 |109   |5.899877 |The Great Warrior Skanderbeg (1953)        |\n",
            "|128727 |109   |5.685911 |Bizarre (2015)                             |\n",
            "|79863  |109   |5.5419154|Black Water (2007)                         |\n",
            "|5605   |109   |5.5345907|Ratcatcher (1999)                          |\n",
            "|124253 |109   |5.4385486|Sailor of the King (1953)                  |\n",
            "|213952 |109   |5.4023843|Ciao Ni! (1979)                            |\n",
            "|227    |109   |5.4013085|Drop Zone (1994)                           |\n",
            "|248836 |109   |5.3409667|Here Today (2021)                          |\n",
            "|38376  |109   |5.3202715|Everybody's Fine (Stanno tutti bene) (1990)|\n",
            "+-------+------+---------+-------------------------------------------+\n",
            "\n",
            "+-------+------+---------+-------------------------------------------+\n",
            "|movieId|userId|rating   |title                                      |\n",
            "+-------+------+---------+-------------------------------------------+\n",
            "|1861   |109   |7.0972385|Junk Mail (Budbringeren) (1997)            |\n",
            "|276711 |109   |5.899877 |The Great Warrior Skanderbeg (1953)        |\n",
            "|128727 |109   |5.685911 |Bizarre (2015)                             |\n",
            "|79863  |109   |5.5419154|Black Water (2007)                         |\n",
            "|5605   |109   |5.5345907|Ratcatcher (1999)                          |\n",
            "|124253 |109   |5.4385486|Sailor of the King (1953)                  |\n",
            "|213952 |109   |5.4023843|Ciao Ni! (1979)                            |\n",
            "|227    |109   |5.4013085|Drop Zone (1994)                           |\n",
            "|248836 |109   |5.3409667|Here Today (2021)                          |\n",
            "|38376  |109   |5.3202715|Everybody's Fine (Stanno tutti bene) (1990)|\n",
            "+-------+------+---------+-------------------------------------------+\n",
            "\n"
          ]
        }
      ]
    },
    {
      "cell_type": "markdown",
      "source": [
        "**Saving the model**"
      ],
      "metadata": {
        "id": "FHw-nlez6HZM"
      }
    },
    {
      "cell_type": "code",
      "source": [
        "model.save(\"movie_rec_model\")"
      ],
      "metadata": {
        "id": "h0n4kB2d6G0X"
      },
      "execution_count": 17,
      "outputs": []
    },
    {
      "cell_type": "code",
      "source": [
        "from pyspark.sql import SparkSession, Row\n",
        "from pyspark.sql.functions import col, explode\n",
        "from pyspark.ml.recommendation import ALSModel\n",
        "\n",
        "# Initialize Spark session\n",
        "spark = SparkSession.builder.appName(\"MovieRecommendation\").getOrCreate()\n",
        "\n",
        "# Load trained ALS model\n",
        "model = ALSModel.load(\"movie_rec_model\")\n",
        "\n",
        "# Load movie titles\n",
        "movies_df = spark.read.option(\"header\", True).csv(\"/content/merged_movie_df.csv\") \\\n",
        "    .select(col(\"movieId\").cast(\"int\"), \"title\") \\\n",
        "    .dropna(subset=[\"movieId\", \"title\"]).dropDuplicates([\"movieId\"])\n",
        "\n",
        "# Define the recommendation function\n",
        "def get_recommendations_for_user(model, movies_df, user_id, top_n=10):\n",
        "    user_df = spark.createDataFrame([Row(userId=int(user_id))], schema=[\"userId\"])\n",
        "    recs = model.recommendForUserSubset(user_df, top_n)\n",
        "    flat_recs = recs.withColumn(\"rec\", explode(\"recommendations\")) \\\n",
        "                    .select(\"userId\", col(\"rec.movieId\"), col(\"rec.rating\"))\n",
        "    final_recs = flat_recs.join(movies_df, on=\"movieId\", how=\"left\")\n",
        "    return final_recs\n",
        "\n",
        "# Example usage:\n",
        "existing_user_id = 109\n",
        "recs_existing = get_recommendations_for_user(model, movies_df, user_id=existing_user_id, top_n=10)\n",
        "recs_existing.show(truncate=False)\n",
        "\n",
        "# Stop Spark\n",
        "spark.stop()"
      ],
      "metadata": {
        "colab": {
          "base_uri": "https://localhost:8080/"
        },
        "id": "1ClB_eS131N0",
        "outputId": "fa3ea5eb-b477-4f34-ad85-d1a4c2fa05d7"
      },
      "execution_count": 33,
      "outputs": [
        {
          "output_type": "stream",
          "name": "stdout",
          "text": [
            "+-------+------+---------+-------------------------------------------+\n",
            "|movieId|userId|rating   |title                                      |\n",
            "+-------+------+---------+-------------------------------------------+\n",
            "|1861   |109   |7.0972385|Junk Mail (Budbringeren) (1997)            |\n",
            "|276711 |109   |5.899877 |The Great Warrior Skanderbeg (1953)        |\n",
            "|128727 |109   |5.685911 |Bizarre (2015)                             |\n",
            "|79863  |109   |5.5419154|Black Water (2007)                         |\n",
            "|5605   |109   |5.5345907|Ratcatcher (1999)                          |\n",
            "|124253 |109   |5.4385486|Sailor of the King (1953)                  |\n",
            "|213952 |109   |5.4023843|Ciao Ni! (1979)                            |\n",
            "|227    |109   |5.4013085|Drop Zone (1994)                           |\n",
            "|248836 |109   |5.3409667|Here Today (2021)                          |\n",
            "|38376  |109   |5.3202715|Everybody's Fine (Stanno tutti bene) (1990)|\n",
            "+-------+------+---------+-------------------------------------------+\n",
            "\n"
          ]
        }
      ]
    },
    {
      "cell_type": "markdown",
      "source": [
        "**Top rated movies**"
      ],
      "metadata": {
        "id": "J-Q_uSD2QaBA"
      }
    },
    {
      "cell_type": "code",
      "source": [
        "from pyspark.sql.functions import avg\n",
        "\n",
        "# Initialize Spark session\n",
        "spark = SparkSession.builder.appName(\"MovieRecommendation\").getOrCreate()\n",
        "\n",
        "# Load the data\n",
        "df = spark.read.option(\"header\", True).csv(\"/content/merged_movie_df.csv\")\n",
        "df = df.withColumn(\"userId\", col(\"userId\").cast(\"int\")) \\\n",
        "        .withColumn(\"movieId\", col(\"movieId\").cast(\"int\")) \\\n",
        "        .withColumn(\"rating\", col(\"rating\").cast(\"float\"))\n",
        "df = df.dropna(subset=[\"userId\", \"movieId\", \"rating\"])\n",
        "\n",
        "# Load movie titles\n",
        "movies_df = spark.read.option(\"header\", True).csv(\"/content/merged_movie_df.csv\") \\\n",
        "    .select(col(\"movieId\").cast(\"int\"), \"title\") \\\n",
        "    .dropna(subset=[\"movieId\", \"title\"]).dropDuplicates([\"movieId\"])\n",
        "\n",
        "def get_top_rated_movies(df, movies_df, top_n=10):\n",
        "    # Average rating per movie\n",
        "    avg_ratings = df.groupBy(\"movieId\").agg(avg(\"rating\").alias(\"avg_rating\"))\n",
        "\n",
        "    # Join with movie titles\n",
        "    top_movies = avg_ratings.join(movies_df, on=\"movieId\", how=\"left\") \\\n",
        "                            .orderBy(col(\"avg_rating\").desc()) \\\n",
        "                            .limit(top_n)\n",
        "    return top_movies\n",
        "\n",
        "top_movies = get_top_rated_movies(df, movies_df)\n",
        "top_movies.show(truncate=False)"
      ],
      "metadata": {
        "colab": {
          "base_uri": "https://localhost:8080/"
        },
        "id": "hHY3Q0bfB8B5",
        "outputId": "f349c655-ef68-4a7f-f7ed-718b746659e0"
      },
      "execution_count": 36,
      "outputs": [
        {
          "output_type": "stream",
          "name": "stdout",
          "text": [
            "+-------+--------------------+---------------------------------+\n",
            "|movieId|avg_rating          |title                            |\n",
            "+-------+--------------------+---------------------------------+\n",
            "|119856 |2.884550934E8       |Hands of Steel (1986)            |\n",
            "|91054  |1.327509145E8       |Batman (1943)                    |\n",
            "|4890   |2.8026226324074075E7|Shallow Hal (2001)               |\n",
            "|41889  |5.0                 |Lili (1953)                      |\n",
            "|7786   |5.0                 |Genghis Blues (1999)             |\n",
            "|2697   |5.0                 |My Son the Fanatic (1997)        |\n",
            "|27636  |5.0                 |Herr Lehmann (2003)              |\n",
            "|3795   |5.0                 |Five Senses, The (1999)          |\n",
            "|3352   |5.0                 |Brown's Requiem (1998)           |\n",
            "|5651   |5.0                 |Incredible Mr. Limpet, The (1964)|\n",
            "+-------+--------------------+---------------------------------+\n",
            "\n"
          ]
        }
      ]
    }
  ]
}